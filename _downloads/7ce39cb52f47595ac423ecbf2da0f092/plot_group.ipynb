{
  "cells": [
    {
      "cell_type": "code",
      "execution_count": null,
      "metadata": {
        "collapsed": false
      },
      "outputs": [],
      "source": [
        "%matplotlib inline"
      ]
    },
    {
      "cell_type": "markdown",
      "metadata": {},
      "source": [
        "\n# Anderson Block Coordinate Descent for the group Lasso\n\nThis example shows the superiority of Anderson acceleration\nof block coordinate descent for the group Lasso.\n"
      ]
    },
    {
      "cell_type": "code",
      "execution_count": null,
      "metadata": {
        "collapsed": false
      },
      "outputs": [],
      "source": [
        "import numpy as np\nimport matplotlib.pyplot as plt\nfrom collections import defaultdict\nfrom numpy.linalg import norm\nfrom sklearn.preprocessing import LabelBinarizer\nfrom sklearn.datasets import fetch_openml\n\nfrom andersoncd.group import solver_group\nfrom andersoncd.plot_utils import (configure_plt, dict_algo_name, dict_color)\nfrom andersoncd.data import make_correlated_data\n\nsave_fig = False\nconfigure_plt(fontsize=14, poster=False)\n\ndataset = \"simu\"\n\nif dataset == \"simu\":\n    X, y, _ = make_correlated_data(n_samples=100, n_features=1000, corr=0.6)\nelse:\n    X, y = fetch_openml(\"leukemia\", return_X_y=True)\n    X, y = X.to_numpy(), y.to_numpy()\n    X = X[:, :3_000]\n    y = LabelBinarizer().fit_transform(y)[:, 0].astype(float)\n\ny -= y.mean()\nX -= np.mean(X, axis=0)[None, :]\nX /= norm(X, axis=0)[None, :]\n\n\ngrp_size = 5\ny = X @ np.random.randn(X.shape[1])\n\n\nalpha_max = np.max(norm((X.T @ y).reshape(-1, grp_size), axis=1))\nalpha = alpha_max / 50\n\n\ntol = 1e-10\n\nmax_iter = 10_000\n\nE = defaultdict(lambda: dict())\ndict_times = defaultdict(lambda: dict())\n\nall_algos = [\n    ('bcd', True),\n    ('pgd', True),\n    ('bcd', False),\n    ('pgd', False),\n    ('rbcd', False),\n    ('fista', False),\n]\n\nfor name, use_acc in all_algos:\n    print(f\"Algo: {name}, use Anderson: {use_acc}\")\n    # dry run for numba compilation:\n    solver_group(\n        X, y, alpha, grp_size, max_iter=2, tol=tol, algo=name,\n        f_gap=1, use_acc=use_acc, tmax=1, verbose=False)\n    _, E[name][use_acc], _, dict_times[name][use_acc] = solver_group(\n        X, y, alpha, grp_size, max_iter=max_iter, tol=tol, algo=name,\n        f_gap=5, use_acc=use_acc, compute_time=True, tmax=3.5, verbose=False)\n\np_star = np.inf\nfor name, use_acc in all_algos:\n    p_star = min(p_star, E[name][use_acc][-1])\n\nplt.close('all')\nfig, ax = plt.subplots(figsize=(7.5, 2.6), constrained_layout=True)\nfor name, use_acc in all_algos:\n    if use_acc:\n        linestyle = 'dashed'\n    elif name.startswith(('fista', 'apcg')):\n        linestyle = 'dotted'\n    elif name.startswith('rbcd'):\n        linestyle = '-'\n    else:\n        linestyle = 'solid'\n    ax.semilogy(\n        dict_times[name][use_acc],\n        (E[name][use_acc] - p_star),\n        label=dict_algo_name[(name, use_acc)],\n        color=dict_color[name], linestyle=linestyle)\n\nax.set_yticks((1e-15, 1e-10, 1e-5, 1e0))\n\nax.set_ylabel(r\"Suboptimality\")\nax.set_xlabel(r\"Time (s)\")\n\nplt.legend(ncol=2)\nplt.show(block=False)"
      ]
    }
  ],
  "metadata": {
    "kernelspec": {
      "display_name": "Python 3",
      "language": "python",
      "name": "python3"
    },
    "language_info": {
      "codemirror_mode": {
        "name": "ipython",
        "version": 3
      },
      "file_extension": ".py",
      "mimetype": "text/x-python",
      "name": "python",
      "nbconvert_exporter": "python",
      "pygments_lexer": "ipython3",
      "version": "3.8.1"
    }
  },
  "nbformat": 4,
  "nbformat_minor": 0
}