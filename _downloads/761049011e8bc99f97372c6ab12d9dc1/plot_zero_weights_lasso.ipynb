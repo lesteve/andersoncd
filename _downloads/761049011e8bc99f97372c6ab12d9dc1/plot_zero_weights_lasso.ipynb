{
  "cells": [
    {
      "cell_type": "code",
      "execution_count": null,
      "metadata": {
        "collapsed": false
      },
      "outputs": [],
      "source": [
        "%matplotlib inline"
      ]
    },
    {
      "cell_type": "markdown",
      "metadata": {},
      "source": [
        "\n# Weighted Lasso with some zero weights\n\nThis example demonstrates how to use a weighted lasso with some vanishing\nweights. The fast Celer solver is adapted to use primal Anderson acceleration,\nallowing it to not compute the dual and handle 0 weights.\n"
      ]
    },
    {
      "cell_type": "code",
      "execution_count": null,
      "metadata": {
        "collapsed": false
      },
      "outputs": [],
      "source": [
        "import numpy as np\nfrom numpy.linalg import norm\nimport matplotlib.pyplot as plt\nfrom sklearn.preprocessing import LabelBinarizer\nfrom sklearn.datasets import fetch_openml\n\nfrom andersoncd import WeightedLasso\nfrom andersoncd.plot_utils import configure_plt\nfrom andersoncd.data import make_correlated_data\n\nconfigure_plt(fontsize=14, poster=False)\n\ndataset = \"simu\"\n\nif dataset == \"simu\":\n    n_features = 100\n    X, y, _ = make_correlated_data(\n        n_samples=100, n_features=n_features, corr=0.7)\nelse:\n    X, y = fetch_openml(\"leukemia\", return_X_y=True)\n    X, y = X.to_numpy(), y.to_numpy()\n    n_features = 100\n    X /= norm(X, axis=0)\n    X = X[:, :n_features]\n    y = LabelBinarizer().fit_transform(y)[:, 0].astype(float)\n\nweights = np.empty(n_features)\n# unpenalize the first 10 features:\nweights[:10] = 0\n# put large penalty on the 10-50 features\nweights[10:50] = 5\n# put small penalty on last 50 features\nweights[50:] = 1\n\nalpha_max = np.max(np.abs(\n    X[:, weights != 0].T @ y / weights[weights != 0])) / len(y)\nclf = WeightedLasso(alpha=alpha_max/10, weights=weights,\n                    fit_intercept=False, verbose=1, tol=1e-10).fit(X, y)\n\n\nplt.figure(figsize=(5, 4))\nplt.axvline(50, color='k', linestyle='--')\nplt.axvline(10, color='k', linestyle='--')\nplt.stem(clf.coef_)\nplt.title(\"Estimated coefficients\")\nplt.show(block=False)"
      ]
    }
  ],
  "metadata": {
    "kernelspec": {
      "display_name": "Python 3",
      "language": "python",
      "name": "python3"
    },
    "language_info": {
      "codemirror_mode": {
        "name": "ipython",
        "version": 3
      },
      "file_extension": ".py",
      "mimetype": "text/x-python",
      "name": "python",
      "nbconvert_exporter": "python",
      "pygments_lexer": "ipython3",
      "version": "3.8.1"
    }
  },
  "nbformat": 4,
  "nbformat_minor": 0
}