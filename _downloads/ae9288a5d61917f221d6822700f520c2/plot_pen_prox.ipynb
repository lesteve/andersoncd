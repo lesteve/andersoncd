{
  "cells": [
    {
      "cell_type": "code",
      "execution_count": null,
      "metadata": {
        "collapsed": false
      },
      "outputs": [],
      "source": [
        "%matplotlib inline"
      ]
    },
    {
      "cell_type": "markdown",
      "metadata": {},
      "source": [
        "\n# Value and proximal operators of penalties\n\nIllustrate the value and proximal operators of some sparse penalties.\n"
      ]
    },
    {
      "cell_type": "code",
      "execution_count": null,
      "metadata": {
        "collapsed": false
      },
      "outputs": [],
      "source": [
        "# Author: Mathurin Massias <mathurin.massias@gmail.com>\n\nimport numpy as np\nimport matplotlib.pyplot as plt\n\nfrom andersoncd.penalties import WeightedL1, L1, L1_plus_L2, MCP_pen\n\n\npenalties = [WeightedL1(alpha=1, weights=np.array([2.])),\n             L1(alpha=1),\n             L1_plus_L2(alpha=1, l1_ratio=0.7),\n             MCP_pen(alpha=1, gamma=3.),\n             ]\n\n\nx_range = np.linspace(-5, 5, num=300)\n\nfig, axarr = plt.subplots(1, 2, figsize=(8, 3), constrained_layout=True)\n\nfor pen in penalties:\n    axarr[0].plot(x_range,\n                  [pen.value(np.array([x])) for x in x_range],\n                  label=pen.__class__.__name__)\n    axarr[1].plot(x_range,\n                  [pen.prox_1d(x, 1, 0) for x in x_range],\n                  label=pen.__class__.__name__)\n\naxarr[0].legend()\naxarr[1].legend()\naxarr[0].set_title(\"Penalty value\")\naxarr[1].set_title(\"Proximal operator of penalty\")\nplt.show(block=False)"
      ]
    }
  ],
  "metadata": {
    "kernelspec": {
      "display_name": "Python 3",
      "language": "python",
      "name": "python3"
    },
    "language_info": {
      "codemirror_mode": {
        "name": "ipython",
        "version": 3
      },
      "file_extension": ".py",
      "mimetype": "text/x-python",
      "name": "python",
      "nbconvert_exporter": "python",
      "pygments_lexer": "ipython3",
      "version": "3.8.1"
    }
  },
  "nbformat": 4,
  "nbformat_minor": 0
}